{
 "cells": [
  {
   "cell_type": "markdown",
   "metadata": {},
   "source": [
    "# Timeline examples\n",
    "\n",
    "## Import package and store API key"
   ]
  },
  {
   "cell_type": "code",
   "execution_count": 1,
   "metadata": {},
   "outputs": [],
   "source": [
    "import timeline_ai as ta, os, json\n",
    "with open(\"creds.json\") as file:\n",
    "    creds = json.load(file)\n",
    "\n",
    "os.environ['OPENAI_API_KEY'] = creds['openai_key']"
   ]
  },
  {
   "cell_type": "markdown",
   "metadata": {},
   "source": [
    "Note: for the above to work you will need to store your open api key in a file called  `creds.json` which contains the text `{\"openai_key\": \"PASTE YOUR KEY HERE\"}`.\n",
    "\n",
    "## Build Byron timeline"
   ]
  },
  {
   "cell_type": "code",
   "execution_count": 7,
   "metadata": {},
   "outputs": [],
   "source": [
    "ta.build_timeline(pdf_file=\"byron_bio.pdf\",\n",
    "    output_file = \"byron.html\",\n",
    "    timeline_title = \"Byron's life and works\",\n",
    "    start_year = 1780,\n",
    "    end_year = 1830)"
   ]
  },
  {
   "cell_type": "markdown",
   "metadata": {},
   "source": [
    "## Build H G Wells timeline"
   ]
  },
  {
   "cell_type": "code",
   "execution_count": 11,
   "metadata": {},
   "outputs": [],
   "source": [
    "ta.build_timeline(pdf_file=\"shotw_chap_64_onwards.pdf\",\n",
    "    output_file = \"short_history.html\",\n",
    "    timeline_title = \"H G Wells: Short History of the World\",\n",
    "    start_year = 1780,\n",
    "    end_year = 1830)\n"
   ]
  }
 ],
 "metadata": {
  "kernelspec": {
   "display_name": "timeline_ai",
   "language": "python",
   "name": "python3"
  },
  "language_info": {
   "codemirror_mode": {
    "name": "ipython",
    "version": 3
   },
   "file_extension": ".py",
   "mimetype": "text/x-python",
   "name": "python",
   "nbconvert_exporter": "python",
   "pygments_lexer": "ipython3",
   "version": "3.12.2"
  }
 },
 "nbformat": 4,
 "nbformat_minor": 2
}
